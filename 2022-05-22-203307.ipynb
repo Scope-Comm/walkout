{
 "cells": [
  {
   "cell_type": "code",
   "execution_count": 6,
   "metadata": {
    "collapsed": false
   },
   "outputs": [
    {
     "name": "stdout",
     "output_type": "stream",
     "text": [
      "1\n",
      "1\n",
      "1\n",
      "1\n",
      "1\n",
      "1\n",
      "1\n",
      "1\n",
      "1\n",
      "1\n",
      "1\n",
      "1\n",
      "1\n",
      "1\n",
      "1\n",
      "1\n",
      "1\n",
      "1\n",
      "1\n",
      "1\n",
      "1\n",
      "1\n",
      "1\n",
      "1\n",
      "1\n",
      "1\n",
      "1\n",
      "1\n",
      "1\n",
      "1\n",
      "1\n",
      "1\n",
      "1\n",
      "1\n",
      "1\n",
      "1\n",
      "1\n",
      "1\n",
      "1\n",
      "['Numbers', 'Alphabet']\n",
      "['Alphabet']\n",
      "openpyxl programs have been completed\n"
     ]
    }
   ],
   "source": [
    "import openpyxl\n",
    "from openpyxl import Workbook\n",
    "book = Workbook()\n",
    "sheet = book.active\n",
    "sheet['A1'] = 56\n",
    "book.save(\"sample.xlsx\")\n",
    "lw=openpyxl.load_workbook(\"sample.xlsx\")\n",
    "ss_sheet = lw['Sheet']\n",
    "ss_sheet.title = 'Numbers'\n",
    "lw.save(\"sample.xlsx\")\n",
    "lw.create_sheet('Alphabet')\n",
    "lw.save('sample.xlsx')\n",
    "wb = Workbook()\n",
    "dest_filename = 'empty_book.xlsx'\n",
    "ws1 = wb.active\n",
    "ws1.title = \"range names\"\n",
    "for row in range(1, 40):\n",
    "    ws1.append(range(600))\n",
    "wb.save(filename = dest_filename)\n",
    "book = openpyxl.load_workbook(dest_filename)\n",
    "sheet = book['range names']\n",
    "for row in sheet.rows:\n",
    "    print(row[1].value)\n",
    "\n",
    "print(lw.sheetnames)\n",
    "del lw['Numbers']\n",
    "print(wk.sheetnames)\n",
    "lw.save('sample.xlsx')\n",
    "print(\"openpyxl programs have been completed\")"
   ]
  },
  {
   "cell_type": "code",
   "execution_count": 7,
   "metadata": {
    "collapsed": false
   },
   "outputs": [
    {
     "name": "stdout",
     "output_type": "stream",
     "text": [
      "Add two Series:\n",
      "0     3\n",
      "1     7\n",
      "2    11\n",
      "3    15\n",
      "4    19\n",
      "dtype: int64\n",
      "Subtract two Series:\n",
      "0    1\n",
      "1    1\n",
      "2    1\n",
      "3    1\n",
      "4    1\n",
      "dtype: int64\n",
      "Multiply two Series:\n",
      "0     2\n",
      "1    12\n",
      "2    30\n",
      "3    56\n",
      "4    90\n",
      "dtype: int64\n",
      "Divide Series1 by Series2:\n",
      "0    2.000000\n",
      "1    1.333333\n",
      "2    1.200000\n",
      "3    1.142857\n",
      "4    1.111111\n",
      "dtype: float64\n",
      "Pandas program to add, subtract, multiple and divide two Pandas Series have been completed\n"
     ]
    }
   ],
   "source": [
    "import pandas as pd\n",
    "ds1 = pd.Series([2, 4, 6, 8, 10])\n",
    "ds2 = pd.Series([1, 3, 5, 7, 9])\n",
    "ds = ds1 + ds2\n",
    "print(\"Add two Series:\")\n",
    "print(ds)\n",
    "print(\"Subtract two Series:\")\n",
    "ds = ds1 - ds2\n",
    "print(ds)\n",
    "print(\"Multiply two Series:\")\n",
    "ds = ds1 * ds2\n",
    "print(ds)\n",
    "print(\"Divide Series1 by Series2:\")\n",
    "ds = ds1 / ds2\n",
    "print(ds)\n",
    "print(\"Pandas program to add, subtract, multiple and divide two Pandas Series have been completed\")"
   ]
  },
  {
   "cell_type": "code",
   "execution_count": 8,
   "metadata": {
    "collapsed": false
   },
   "outputs": [
    {
     "name": "stdout",
     "output_type": "stream",
     "text": [
      "0    100.00\n",
      "1    200.00\n",
      "2       NaN\n",
      "3    300.12\n",
      "4    400.00\n",
      "dtype: float64\n",
      "Pandas program to change has been completed\n",
      "\n",
      "0       100\n",
      "1       200\n",
      "3    300.12\n",
      "4       400\n",
      "2    python\n",
      "dtype: object\n",
      "Pandas program to sort has been completed \n",
      "\n",
      "0       100\n",
      "1       200\n",
      "2    python\n",
      "3    300.12\n",
      "4       400\n",
      "0       500\n",
      "1       php\n",
      "dtype: object\n",
      "Pandas program to add more data to existing series has been completed \n",
      "\n",
      "Mean of the said Data Series:4.818181818181818\n",
      "Standard deviation of the said Data Series:2.522624895547565\n",
      "Pandas program to find mean and std  has been completed \n",
      "\n",
      "\n",
      "Number of characters in each word in the said series:0    3\n",
      "1    6\n",
      "2    4\n",
      "3    2\n",
      "dtype: int64\n",
      "Pandas program to calculate the number of characters has been completed \n",
      "\n",
      "A    2\n",
      "B    1\n",
      "dtype: int64\n",
      "Pandas program to calculate the frequency counts of each value has been completed\n"
     ]
    }
   ],
   "source": [
    "import pandas as pd\n",
    "s1 = pd.Series(['100', '200', 'python', '300.12', '400'])\n",
    "s2 = pd.to_numeric(s1, errors='coerce')\n",
    "print(s2)\n",
    "print(\"Pandas program to change has been completed\\n\")\n",
    "new_s = pd.Series(s1).sort_values()\n",
    "print(new_s)\n",
    "print(\"Pandas program to sort has been completed \\n\")\n",
    "s3=pd.Series(['500', 'php'])\n",
    "new_s = pd.concat([s1, s3])\n",
    "print(new_s)\n",
    "print(\"Pandas program to add more data to existing series has been completed \\n\")\n",
    "s = pd.Series(data = [1,2,3,4,5,6,7,8,9,5,3])\n",
    "print(\"Mean of the said Data Series:{}\".format(s.mean()))\n",
    "print(\"Standard deviation of the said Data Series:{}\".format(s.std()))\n",
    "print(\"Pandas program to find mean and std  has been completed \\n\")\n",
    "series1 = pd.Series(['Php', 'Python', 'Java', 'C#'])\n",
    "result = series1.map(lambda x: len(x))\n",
    "print(\"\\nNumber of characters in each word in the said series:{}\".format(result))\n",
    "print(\"Pandas program to calculate the number of characters has been completed \\n\")\n",
    "s4=pd.Series(['A','A','B'])\n",
    "print(s4.value_counts())\n",
    "print(\"Pandas program to calculate the frequency counts of each value has been completed\")"
   ]
  },
  {
   "cell_type": "code",
   "execution_count": 9,
   "metadata": {
    "collapsed": false
   },
   "outputs": [
    {
     "name": "stdout",
     "output_type": "stream",
     "text": [
      "Series1:\n",
      "0     2\n",
      "1     4\n",
      "2     6\n",
      "3     8\n",
      "4    10\n",
      "dtype: int64\n",
      "Series2:\n",
      "0     1\n",
      "1     3\n",
      "2     5\n",
      "3     7\n",
      "4    10\n",
      "dtype: int64\n",
      "Compare the elements of the said Series:\n",
      "Equals:\n",
      "0    False\n",
      "1    False\n",
      "2    False\n",
      "3    False\n",
      "4     True\n",
      "dtype: bool\n",
      "Greater than:\n",
      "0     True\n",
      "1     True\n",
      "2     True\n",
      "3     True\n",
      "4    False\n",
      "dtype: bool\n",
      "Less than:\n",
      "0    False\n",
      "1    False\n",
      "2    False\n",
      "3    False\n",
      "4    False\n",
      "dtype: bool\n",
      "Pandas program to compare the elements has been completed \n",
      "\n"
     ]
    }
   ],
   "source": [
    "import pandas as pd\n",
    "ds1 = pd.Series([2, 4, 6, 8, 10])\n",
    "ds2 = pd.Series([1, 3, 5, 7, 10])\n",
    "print(\"Series1:\")\n",
    "print(ds1)\n",
    "print(\"Series2:\")\n",
    "print(ds2)\n",
    "print(\"Compare the elements of the said Series:\")\n",
    "print(\"Equals:\")\n",
    "print(ds1 == ds2)\n",
    "print(\"Greater than:\")\n",
    "print(ds1 > ds2)\n",
    "print(\"Less than:\")\n",
    "print(ds1 < ds2)\n",
    "print(\"Pandas program to compare the elements has been completed \\n\")"
   ]
  },
  {
   "cell_type": "code",
   "execution_count": 0,
   "metadata": {
    "collapsed": false
   },
   "outputs": [
   ],
   "source": [
    "\n"
   ]
  }
 ],
 "metadata": {
  "kernelspec": {
   "display_name": "Python 3 (system-wide)",
   "language": "python",
   "metadata": {
    "cocalc": {
     "description": "Python 3 programming language",
     "priority": 100,
     "url": "https://www.python.org/"
    }
   },
   "name": "python3",
   "resource_dir": "/ext/jupyter/kernels/python3"
  },
  "language_info": {
   "codemirror_mode": {
    "name": "ipython",
    "version": 3
   },
   "file_extension": ".py",
   "mimetype": "text/x-python",
   "name": "python",
   "nbconvert_exporter": "python",
   "pygments_lexer": "ipython3",
   "version": "3.8.10"
  }
 },
 "nbformat": 4,
 "nbformat_minor": 4
}